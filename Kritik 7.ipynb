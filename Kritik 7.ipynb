{
 "cells": [
  {
   "cell_type": "code",
   "execution_count": null,
   "id": "3ca4dc37-b6ff-4066-b590-0d3e7da48ef7",
   "metadata": {},
   "outputs": [],
   "source": [
    "i)"
   ]
  },
  {
   "cell_type": "code",
   "execution_count": 4,
   "id": "fb0ac2ba-fe83-4651-99fa-62e9eeeb3190",
   "metadata": {},
   "outputs": [
    {
     "name": "stdout",
     "output_type": "stream",
     "text": [
      "Mean: 82.382\n",
      "Standard Deviation: 10.193467189005581\n"
     ]
    }
   ],
   "source": [
    "def compute_mean_std(data):\n",
    "    n = len(data)\n",
    "    mean = sum(data) / n\n",
    "    variance = sum((x - mean) ** 2 for x in data) / (n - 1)\n",
    "    std_dev = variance ** 0.5\n",
    "    return mean, std_dev\n",
    "\n",
    "# Given data\n",
    "data = [92.64, 79.00, 84.79, 97.41, 93.68, 65.23, 84.50, 73.49, 73.97, 79.11]\n",
    "\n",
    "# Compute mean and standard deviation\n",
    "mean, std_dev = compute_mean_std(data)\n",
    "print(f\"Mean: {mean}\")\n",
    "print(f\"Standard Deviation: {std_dev}\")"
   ]
  },
  {
   "cell_type": "code",
   "execution_count": null,
   "id": "e987164e-5d42-48b0-b7b1-dea5f929c2f7",
   "metadata": {},
   "outputs": [],
   "source": [
    "ii)"
   ]
  },
  {
   "cell_type": "code",
   "execution_count": 5,
   "id": "5ae36a5c-c940-4a40-b559-a5f76766f274",
   "metadata": {},
   "outputs": [
    {
     "name": "stdout",
     "output_type": "stream",
     "text": [
      "t0: 2.290087686017293\n"
     ]
    }
   ],
   "source": [
    "def compute_t0(mean, std_dev, mu0, n):\n",
    "    t0 = (mean - mu0) / (std_dev / (n ** 0.5))\n",
    "    return t0\n",
    "\n",
    "# Given values\n",
    "mu0 = 75  # National average\n",
    "n = len(data)  # Sample size\n",
    "\n",
    "# Compute t0\n",
    "t0 = compute_t0(mean, std_dev, mu0, n)\n",
    "print(f\"t0: {t0}\")"
   ]
  },
  {
   "cell_type": "code",
   "execution_count": null,
   "id": "8e9dc399-fef4-431c-a5d2-48d93cb726b9",
   "metadata": {},
   "outputs": [],
   "source": [
    "iii)"
   ]
  },
  {
   "cell_type": "code",
   "execution_count": 6,
   "id": "773ff962-6620-43f8-8e9e-ffef45d87e4b",
   "metadata": {},
   "outputs": [
    {
     "name": "stdout",
     "output_type": "stream",
     "text": [
      "t*: 2.2522252225222523\n"
     ]
    }
   ],
   "source": [
    "import numpy as np\n",
    "from scipy.special import gamma\n",
    "\n",
    "def t_distribution_pdf(x, nu):\n",
    "    coeff = gamma((nu + 1) / 2) / (np.sqrt(nu * np.pi) * gamma(nu / 2))\n",
    "    density = coeff * (1 + x**2 / nu) ** (-0.5 * (nu + 1))\n",
    "    return density\n",
    "\n",
    "def find_t_star(prob, nu, x_start=0, x_end=20, num_points=10000):\n",
    "    x = np.linspace(x_start, x_end, num_points)\n",
    "    y = t_distribution_pdf(x, nu)\n",
    "    cdf = np.cumsum(y) * (x[1] - x[0])\n",
    "    target_half_prob = prob / 2\n",
    "    index = np.where(cdf >= target_half_prob)[0][0]\n",
    "    return x[index]\n",
    "\n",
    "# Degrees of freedom\n",
    "nu = n - 1  # n = 10, so nu = 9\n",
    "\n",
    "# Find t* for 95% confidence\n",
    "t_star = find_t_star(0.95, nu)\n",
    "print(f\"t*: {t_star}\")"
   ]
  },
  {
   "cell_type": "code",
   "execution_count": null,
   "id": "ad93a2aa-eb64-4d1f-845f-00bfe47e29e5",
   "metadata": {},
   "outputs": [],
   "source": [
    "iv)"
   ]
  },
  {
   "cell_type": "code",
   "execution_count": 7,
   "id": "171803a1-adfc-415c-8eca-d95049e3c5c2",
   "metadata": {},
   "outputs": [
    {
     "name": "stdout",
     "output_type": "stream",
     "text": [
      "Is t0 within [-t*, t*]? False\n"
     ]
    }
   ],
   "source": [
    "def compare_t0_t_star(t0, t_star):\n",
    "    return -t_star <= t0 <= t_star\n",
    "\n",
    "# Compare t0 and t*\n",
    "result = compare_t0_t_star(t0, t_star)\n",
    "print(f\"Is t0 within [-t*, t*]? {result}\")"
   ]
  },
  {
   "cell_type": "code",
   "execution_count": null,
   "id": "0a7d3f2e-3c8e-4451-b188-304f40dbad71",
   "metadata": {},
   "outputs": [],
   "source": [
    "v)"
   ]
  },
  {
   "cell_type": "code",
   "execution_count": 1,
   "id": "1fd96c91-6ac7-4c88-9a2c-8c1890625138",
   "metadata": {},
   "outputs": [
    {
     "ename": "NameError",
     "evalue": "name 'result' is not defined",
     "output_type": "error",
     "traceback": [
      "\u001b[0;31m---------------------------------------------------------------------------\u001b[0m",
      "\u001b[0;31mNameError\u001b[0m                                 Traceback (most recent call last)",
      "Cell \u001b[0;32mIn[1], line 1\u001b[0m\n\u001b[0;32m----> 1\u001b[0m \u001b[38;5;28;01mif\u001b[39;00m \u001b[43mresult\u001b[49m:\n\u001b[1;32m      2\u001b[0m     \u001b[38;5;28mprint\u001b[39m(\u001b[38;5;124m\"\u001b[39m\u001b[38;5;124mWe accept the null hypothesis. There is no statistically significant difference in the test scores.\u001b[39m\u001b[38;5;124m\"\u001b[39m)\n\u001b[1;32m      3\u001b[0m \u001b[38;5;28;01melse\u001b[39;00m:\n",
      "\u001b[0;31mNameError\u001b[0m: name 'result' is not defined"
     ]
    }
   ],
   "source": [
    "result = compare_t0_t_star(t0, t_star)\n",
    "if result:\n",
    "    print(\"We accept the null hypothesis. There is no statistically significant difference in the test scores.\")\n",
    "else:\n",
    "    print(\"We reject the null hypothesis. There is a statistically significant difference in the test scores.\")\n",
    "    if t0 > t_star:\n",
    "        print(\"The new teaching technique has a beneficial impact on student scores.\")\n",
    "    else:\n",
    "        print(\"The new teaching technique has a detrimental impact on student scores.\")"
   ]
  },
  {
   "cell_type": "code",
   "execution_count": null,
   "id": "5009b6f2-601b-4505-9231-7c9ba34cd46d",
   "metadata": {},
   "outputs": [],
   "source": []
  }
 ],
 "metadata": {
  "kernelspec": {
   "display_name": "Python 3 (ipykernel)",
   "language": "python",
   "name": "python3"
  },
  "language_info": {
   "codemirror_mode": {
    "name": "ipython",
    "version": 3
   },
   "file_extension": ".py",
   "mimetype": "text/x-python",
   "name": "python",
   "nbconvert_exporter": "python",
   "pygments_lexer": "ipython3",
   "version": "3.12.8"
  }
 },
 "nbformat": 4,
 "nbformat_minor": 5
}
