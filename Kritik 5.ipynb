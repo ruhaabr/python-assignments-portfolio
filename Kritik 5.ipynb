{
 "cells": [
  {
   "cell_type": "code",
   "execution_count": null,
   "id": "70904ff8-e3cf-4539-82d8-658dafead280",
   "metadata": {},
   "outputs": [],
   "source": [
    "import matplotlib.pyplot as plt\n",
    "import random\n",
    "\n",
    "vertices = [(0, 0), (1, 0), (0.5, 0.866)]\n",
    "\n",
    "seed_x = float(input(\"Enter the x-coordinate of the seed point: \"))\n",
    "seed_y = float(input(\"Enter the y-coordinate of the seed point: \"))\n",
    "seed = (seed_x, seed_y)\n",
    "\n",
    "points = [seed]\n",
    "\n",
    "num_steps = int(input(\"Enter the number of steps: \"))\n",
    "\n",
    "for _ in range(num_steps):\n",
    "    # Choose a random vertex\n",
    "    next_vertex = vertices[random.randint(0, 2)]\n",
    "    \n",
    "    # Calculate the midpoint between the current point and the chosen vertex\n",
    "    last_point = points[-1]\n",
    "    next_point = (\n",
    "        (last_point[0] + next_vertex[0]) / 2,\n",
    "        (last_point[1] + next_vertex[1]) / 2\n",
    "    )\n",
    "    \n",
    "    points.append(next_point)\n",
    "\n",
    "def plot_solution(points):\n",
    "    plt.scatter([p[0] for p in points], [p[1] for p in points], s=0.1)\n",
    "    plt.title(\"Sierpinski Triangle\")\n",
    "    plt.axis(\"equal\")\n",
    "    plt.show()\n",
    "\n",
    "plot_solution(points[12:])\n"
   ]
  }
 ],
 "metadata": {
  "kernelspec": {
   "display_name": "Python 3 (ipykernel)",
   "language": "python",
   "name": "python3"
  },
  "language_info": {
   "codemirror_mode": {
    "name": "ipython",
    "version": 3
   },
   "file_extension": ".py",
   "mimetype": "text/x-python",
   "name": "python",
   "nbconvert_exporter": "python",
   "pygments_lexer": "ipython3",
   "version": "3.12.8"
  }
 },
 "nbformat": 4,
 "nbformat_minor": 5
}
