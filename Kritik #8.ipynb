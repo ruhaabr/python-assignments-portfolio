{
 "cells": [
  {
   "cell_type": "code",
   "execution_count": 4,
   "id": "018a51d5-fc14-48d6-a625-40e5c0d4e6c7",
   "metadata": {},
   "outputs": [
    {
     "name": "stdout",
     "output_type": "stream",
     "text": [
      "(0.9499999998349044, 1.0500000001650958)\n",
      "(0.7146874855838188, 0.8561088412110778)\n",
      "(-0.01000000006077471, 0.01000000006077471)\n",
      " 0.0005576610565185547 seconds \n"
     ]
    }
   ],
   "source": [
    "import time\n",
    "import numpy as np\n",
    "start_time = time.time()\n",
    "def quadratic_func(x):\n",
    "    return x**2\n",
    "def sin_func(x):\n",
    "    return np.sin(x)\n",
    "def exponential_func(x):\n",
    "    return np.exp(x)\n",
    "def linear_approximation(func, centre, tolerance):\n",
    "    dx = 1e-8\n",
    "    derivative = (func(centre + dx) - func(centre - dx)) / (2 * dx)\n",
    "    offset = tolerance / abs(derivative)\n",
    "    left_bound = centre - offset\n",
    "    right_bound = centre + offset\n",
    "    while abs(func(left_bound) - func(centre) - (derivative * (left_bound - centre))) > tolerance:\n",
    "        left_bound -= dx\n",
    "    while abs(func(right_bound) - func(centre) - (derivative * (right_bound - centre)))> tolerance:\n",
    "        right_bound += dx\n",
    "    return float(left_bound), float(right_bound)\n",
    "print(linear_approximation(quadratic_func, 1, 0.1))\n",
    "print(linear_approximation(sin_func, np.pi / 4, 0.05))\n",
    "print(linear_approximation(exponential_func, 0, 0.01))\n",
    "print(\" %s seconds \" % (time.time() - start_time))"
   ]
  }
 ],
 "metadata": {
  "kernelspec": {
   "display_name": "Python 3 (ipykernel)",
   "language": "python",
   "name": "python3"
  },
  "language_info": {
   "codemirror_mode": {
    "name": "ipython",
    "version": 3
   },
   "file_extension": ".py",
   "mimetype": "text/x-python",
   "name": "python",
   "nbconvert_exporter": "python",
   "pygments_lexer": "ipython3",
   "version": "3.11.9"
  }
 },
 "nbformat": 4,
 "nbformat_minor": 5
}
